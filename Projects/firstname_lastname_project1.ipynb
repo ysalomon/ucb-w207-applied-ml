{
 "cells": [
  {
   "cell_type": "markdown",
   "metadata": {
    "id": "iNALzZOKTzOS"
   },
   "source": [
    "\n",
    "# Project 1: Digit Classification with KNN\n"
   ]
  },
  {
   "cell_type": "markdown",
   "metadata": {
    "id": "EBRkdIUUTzOV"
   },
   "source": [
    "# Intro\n",
    "---\n",
    "In this project, you'll implement your own image recognition system for classifying digits. Read through the code and the instructions carefully and add your own code where indicated. Each problem can be addressed succinctly with the included packages -- please don't add any more. \n",
    "As always, you're welcome to work on the project in groups and discuss ideas over Slack, but <b> please prepare your own write-up (with your own code). </b> To be safe, please credit any sources used.\n",
    "\n",
    "\n",
    "## Grading\n",
    "---\n",
    " - Make sure to answer every part in every question.\n",
    " - There are 5 questions, each worth an equal number of points.\n",
    " - Read carefully what is asked including the notes.\n",
    " - Additional points may be deducted if:\n",
    "   - the code is not clean or is not well commented\n",
    "   - the functions or answers are excessively long\n",
    "\n",
    "## Requirements:\n",
    "---\n",
    "1. Comment your code.\n",
    "1. Each graph should have a title, labels for each axis, and (if needed) a legend. Each graph should be understandable on its own.\n",
    "1. All code must run on colab.research.google.com\n",
    "1. You should not import any additional libraries.\n",
    "1. Try and minimize the use of the global namespace (meaning, keep things inside functions).\n",
    "\n",
    "## Additional reading and notes\n",
    "---\n",
    "\n",
    "If you are looking to get started with Tensorflow, you can read through this tutorial: https://www.tensorflow.org/tutorials/keras/classification. It uses a dataset called \"fashion_mnist\", which is identical in structure to the original digit mnist, but uses images of clothing rather than images of digits. The number of training examples and number of labels is the same. In fact, you can simply replace the code that loads \"fashion_mnist\" with \"mnist\" and everything should work fine.\n",
    "\n",
    "Additionally, if you're interested, check out these links related to digit recognition:\n",
    "\n",
    "* Yann Lecun's MNIST benchmarks: http://yann.lecun.com/exdb/mnist/\n",
    "* Stanford Streetview research and data: http://ufldl.stanford.edu/housenumbers/"
   ]
  },
  {
   "cell_type": "code",
   "execution_count": null,
   "metadata": {
    "id": "r8u7GmsDTzOX"
   },
   "outputs": [],
   "source": [
    "# This tells matplotlib not to try opening a new window for each plot.\n",
    "%matplotlib inline\n",
    "\n",
    "# Import a bunch of libraries.\n",
    "import time\n",
    "import numpy as np\n",
    "import pandas as pd\n",
    "import matplotlib.pyplot as plt\n",
    "from matplotlib.ticker import MultipleLocator\n",
    "from sklearn.pipeline import Pipeline\n",
    "from sklearn.datasets import fetch_openml\n",
    "from sklearn.neighbors import KNeighborsClassifier\n",
    "from sklearn.metrics import confusion_matrix\n",
    "from sklearn.linear_model import LinearRegression\n",
    "from sklearn.naive_bayes import BernoulliNB\n",
    "from sklearn.naive_bayes import MultinomialNB\n",
    "from sklearn.naive_bayes import GaussianNB\n",
    "from sklearn.model_selection import GridSearchCV\n",
    "from sklearn.metrics import classification_report\n",
    "\n",
    "# Set the randomizer seed so results are the same each time.\n",
    "np.random.seed(0)"
   ]
  },
  {
   "cell_type": "code",
   "execution_count": null,
   "metadata": {
    "id": "bWOWoq_dTzOY"
   },
   "outputs": [],
   "source": [
    "import sklearn\n",
    "sklearn.__version__"
   ]
  },
  {
   "cell_type": "markdown",
   "metadata": {
    "id": "J1-CAjA9TzOa"
   },
   "source": [
    "Load the data. Notice that the data gets partitioned into training, development, and test sets. Also, a small subset of the training data called mini_train_data and mini_train_labels gets defined, which you should use in all the experiments below, unless otherwise noted."
   ]
  },
  {
   "cell_type": "code",
   "execution_count": null,
   "metadata": {
    "id": "f9kPmCW0TzOb"
   },
   "outputs": [],
   "source": [
    "# Load the digit data from https://www.openml.org/d/554 or from default local location '~/scikit_learn_data/...'\n",
    "X, Y = fetch_openml(name='mnist_784', return_X_y=True, cache=False)\n",
    "\n",
    "# Rescale grayscale values to [0,1].\n",
    "X = X / 255.0\n",
    "\n",
    "# Shuffle the input: create a random permutation of the integers between 0 and the number of data points and apply this\n",
    "# permutation to X and Y.\n",
    "# NOTE: Each time you run this cell, you'll re-shuffle the data, resulting in a different ordering.\n",
    "shuffle = np.random.permutation(np.arange(X.shape[0]))\n",
    "X, Y = X[shuffle], Y[shuffle]\n",
    "\n",
    "print('data shape: ', X.shape)\n",
    "print('label shape:', Y.shape)\n",
    "\n",
    "# Set some variables to hold test, dev, and training data.\n",
    "test_data, test_labels = X[61000:], Y[61000:]\n",
    "dev_data, dev_labels = X[60000:61000], Y[60000:61000]\n",
    "train_data, train_labels = X[:60000], Y[:60000]\n",
    "mini_train_data, mini_train_labels = X[:1000], Y[:1000]"
   ]
  },
  {
   "cell_type": "markdown",
   "metadata": {
    "id": "qmZBWyLoTzOc"
   },
   "source": [
    "### Question 1: Visualize a select sample of images\n",
    "---\n",
    "Show a 10x10 grid that visualizes 10 examples of each digit.\n",
    "\n",
    "Notes:\n",
    "* Make the digits nice and big.\n",
    "* You can use `plt.rc()` for setting the colormap, for example to black and white.\n",
    "* You can use `plt.subplot()` for creating subplots.\n",
    "* You can use `plt.imshow()` for rendering a matrix.\n",
    "* You can use `np.array.reshape()` for reshaping a 1D feature vector into a 2D matrix (for rendering)."
   ]
  },
  {
   "cell_type": "code",
   "execution_count": null,
   "metadata": {
    "id": "ZUzDN1meTzOd"
   },
   "outputs": [],
   "source": [
    "def Q1(num_examples=10):\n",
    "  ### STUDENT START ###\n",
    "  \n",
    "  ### STUDENT END ###\n",
    "\n",
    "Q1(10)"
   ]
  },
  {
   "cell_type": "markdown",
   "metadata": {
    "id": "s7PNhljcTzOe"
   },
   "source": [
    "### Question 2: Evaluating different choices of k\n",
    "---\n",
    "\n",
    "1. Produce k-Nearest Neighbors models with k = 1, 3, 5, 7, and 9.  \n",
    "1. Print the accuracy of each model. \n",
    "1. Additionally, only for the 1-Nearest Neighbor model, show the precision, recall, and F1 for each label. \n",
    "1. Which digit is the most *difficult* for the 1-Nearest Neighbor model to classify correctly? How did you choose and why?\n",
    "\n",
    "Notes:\n",
    "* Train on the mini train set.\n",
    "* Evaluate performance on the dev set.\n",
    "* Print only the information asked so it is easy to read and compare.\n",
    "* You can use `KNeighborsClassifier` to produce a k-nearest neighbor model.\n",
    "* You can use `classification_report` to get precision, recall, and F1 results.\n",
    "* Check out what the function \"score\" does."
   ]
  },
  {
   "cell_type": "code",
   "execution_count": null,
   "metadata": {
    "id": "PQD0u7d_TzOf"
   },
   "outputs": [],
   "source": [
    "def Q2(k_values):\n",
    "\n",
    "### STUDENT START ###\n",
    "    \n",
    "### STUDENT END ###\n",
    "\n",
    "k_values = [1, 3, 5, 7, 9]\n",
    "Q2(k_values)"
   ]
  },
  {
   "cell_type": "markdown",
   "metadata": {
    "id": "rkwwb2hHTzOg"
   },
   "source": [
    "Answer to part 4: "
   ]
  },
  {
   "cell_type": "markdown",
   "metadata": {
    "id": "C2VPQ9CbTzOh"
   },
   "source": [
    "### Question 3: Examining the importance of training size\n",
    "---\n",
    "1. Produce 1-Nearest Neighbor models using training data of various sizes. For example, ```train_data[:train_size]```.\n",
    "1. Evaluate and show the accuracy achieved by each model.  \n",
    "1. Show the time needed to: \n",
    "  1. Train each model.\n",
    "  1. Measure the accuracy of each model.\n",
    "1. What do you see? Is this what you expected to see and why?\n",
    "1. Plot on the same graph (as a function of training size):\n",
    "  1. the time needed for training\n",
    "  1. the time needed for calculating accuracy\n",
    "\n",
    "Notes:\n",
    "* Evaluate on the dev set.\n",
    "* You can use `KNeighborsClassifier` to produce a k-nearest neighbor model.\n",
    "* You can use `time.time()` to measure elapsed time of operations."
   ]
  },
  {
   "cell_type": "code",
   "execution_count": null,
   "metadata": {
    "id": "8FLREmbUTzOh"
   },
   "outputs": [],
   "source": [
    "def Q3(train_sizes, accuracies):\n",
    "\n",
    "### STUDENT START ###\n",
    "\n",
    "### STUDENT END ###\n",
    "\n",
    "train_sizes = [100, 200, 400, 800, 1600, 3200, 6400, 12800, 25600]\n",
    "accuracies = []\n",
    "train_times = []\n",
    "eval_times = []\n",
    "Q3(train_sizes, accuracies, train_times, eval_times)"
   ]
  },
  {
   "cell_type": "markdown",
   "metadata": {
    "id": "7RvpMWezTzOi"
   },
   "source": [
    "### Question 4: Evaluating if we should obtain additional data\n",
    "---\n",
    "\n",
    "In this question we wish to predict what accuracy we would get if we had additional training data.\n",
    "\n",
    "Our input, our features and labels, are the output from the previous question. Based on the training size and accuracy we got in the previous question, we wish to predict the accuracy we would get if we had larger training sizes.\n",
    "\n",
    "1. Produce a linear regression model that predicts accuracy of a 1-Nearest Neighbor model given training set size. \n",
    "1. Print $R^2$ of the linear regression model.  \n",
    "1. Print the accuracies predicted for training set sizes 60000, 120000, and 1000000.  \n",
    "1. Plot on a lineplot graph:\n",
    "  1. the actual accuracies we obtained in the previous question \n",
    "  1. and the accuracies our model predicted we would have gotten.\n",
    "  1. The X axis is the training set size. \n",
    "  1. You can limit the range of X and Y to the range where you have data for both plots. Meaning, in the this question, we want to visualize how good the prediction is.\n",
    "1. What are two things that are wrong with our model?\n",
    "1. Apply a transformation to the predictor features and a transformation to the outcome that make the predictions fix these issues. \n",
    "1. Show $R^2$ of the improved linear regression model.  \n",
    "1. Print the accuracies predicted for training set sizes 60000, 120000, and 1000000.  \n",
    "1. Plot a lineplot graph of both again as before.\n",
    "  1. Be sure to plot this where the Y axis is accuracy and X axis is training set size, **not the transformed space**!\n",
    "  1. Choose the range of X and Y to visualize effectively.\n",
    "\n",
    "Notes:\n",
    "* Train the linear regression models on all of the (transformed) accuracies estimated in Problem 3.\n",
    "* Evaluate the linear regression models on all of the (transformed) accuracies estimated in Problem 3.\n",
    "* You can use `LinearRegression` to produce a linear regression model.\n",
    "* Remember that the sklearn `fit()` functions take an input matrix X and output vector Y. So, each input example in X is a vector, even if it contains only a single value.\n",
    "* Hints:\n",
    "  1. You have two problems here, how well your model fits and predicting *illogical* values of accuracy.\n",
    "  1. You can look at:\n",
    "    1. [logit](https://en.wikipedia.org/wiki/Logit): $\\frac{1}{1 + e^{-x}} = \\frac{e^x}{1+e^x}$ which takes numbers in $\\[\\infty,-\\infty\\]$ and outputs numbers in $(0, 1)$.\n",
    "    1. [logistic](https://en.wikipedia.org/wiki/Logistic_function): $log(\\frac{p}{1 - p})$ which takes numbers between $(0, 1)$ and outputs numbers between $\\[\\infty,-\\infty\\]$.\n",
    "    1. It also happens that $x = logistic(p)$ is the same thing as $logit(x)=p$."
   ]
  },
  {
   "cell_type": "code",
   "execution_count": null,
   "metadata": {
    "id": "z-mIFqcfTzOi"
   },
   "outputs": [],
   "source": [
    "def Q4():\n",
    "\n",
    "### STUDENT START ###\n",
    "\n",
    "### STUDENT END ###\n",
    "\n",
    "Q4()"
   ]
  },
  {
   "cell_type": "markdown",
   "metadata": {
    "id": "pcYwq2H5TzOj"
   },
   "source": [
    "Answer to part 5:  "
   ]
  },
  {
   "cell_type": "markdown",
   "metadata": {
    "id": "899CMYybTzOj"
   },
   "source": [
    "### Question 5: Getting to know the confusion matrix.\n",
    "---\n",
    "\n",
    "1. Produce a 1-Nearest Neighbor model.\n",
    "1. Show the confusion matrix. \n",
    "1. Which digit does the model most often confuse with which digit? (*for example, the model most often mistakes the digit $1$ as the digit $7$*).\n",
    "1. Show examples of the misclassified digit.\n",
    "\n",
    "Notes:\n",
    "- Train on the mini train set.\n",
    "- Evaluate performance on the dev set.\n",
    "- You can use `confusion_matrix()` to produce a confusion matrix.\n",
    "- No need to calculate the \"most confused digits\" programmatically."
   ]
  },
  {
   "cell_type": "code",
   "execution_count": null,
   "metadata": {
    "id": "nRFrK4G9TzOk"
   },
   "outputs": [],
   "source": [
    "def Q5():\n",
    "\n",
    "### STUDENT START ###\n",
    "### STUDENT END ###\n",
    "\n",
    "Q5()\n"
   ]
  },
  {
   "cell_type": "markdown",
   "metadata": {
    "id": "f6x930p3TzOl"
   },
   "source": [
    "Answer to part 3: \n"
   ]
  },
  {
   "cell_type": "code",
   "execution_count": null,
   "metadata": {
    "id": "iJoleVeatoRg"
   },
   "outputs": [],
   "source": []
  }
 ],
 "metadata": {
  "colab": {
   "collapsed_sections": [],
   "name": "firstname_lastname_project1.ipynb",
   "provenance": []
  },
  "kernelspec": {
   "display_name": "Python 3",
   "language": "python",
   "name": "python3"
  },
  "language_info": {
   "codemirror_mode": {
    "name": "ipython",
    "version": 3
   },
   "file_extension": ".py",
   "mimetype": "text/x-python",
   "name": "python",
   "nbconvert_exporter": "python",
   "pygments_lexer": "ipython3",
   "version": "3.7.4"
  },
  "toc": {
   "base_numbering": 1,
   "nav_menu": {},
   "number_sections": false,
   "sideBar": true,
   "skip_h1_title": true,
   "title_cell": "Table of Contents",
   "title_sidebar": "Contents",
   "toc_cell": false,
   "toc_position": {},
   "toc_section_display": true,
   "toc_window_display": false
  }
 },
 "nbformat": 4,
 "nbformat_minor": 1
}
