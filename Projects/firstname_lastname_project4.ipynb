{
  "nbformat": 4,
  "nbformat_minor": 0,
  "metadata": {
    "kernelspec": {
      "display_name": "Python 3",
      "language": "python",
      "name": "python3"
    },
    "language_info": {
      "codemirror_mode": {
        "name": "ipython",
        "version": 3
      },
      "file_extension": ".py",
      "mimetype": "text/x-python",
      "name": "python",
      "nbconvert_exporter": "python",
      "pygments_lexer": "ipython3",
      "version": "3.7.4"
    },
    "toc": {
      "base_numbering": 1,
      "nav_menu": {},
      "number_sections": false,
      "sideBar": true,
      "skip_h1_title": true,
      "title_cell": "Table of Contents",
      "title_sidebar": "Contents",
      "toc_cell": false,
      "toc_position": {},
      "toc_section_display": true,
      "toc_window_display": false
    },
    "colab": {
      "name": "firstname_lastname_project4.ipynb",
      "provenance": [],
      "collapsed_sections": []
    }
  },
  "cells": [
    {
      "cell_type": "markdown",
      "metadata": {
        "id": "S_WpiPl1Txxh"
      },
      "source": [
        "# Project 4: Poisonous Mushrooms\n",
        "\n",
        "**Solution**"
      ]
    },
    {
      "cell_type": "markdown",
      "metadata": {
        "id": "w34qHYsPTxxl"
      },
      "source": [
        "In this project, you'll investigate properties of mushrooms. This classic dataset contains over 8000 examples, where each describes a mushroom by a variety of features like color, odor, etc., and the target variable is an indicator for whether the mushroom is poisonous. The feature space has been binarized. Look at the feature_names below to see all 126 binary names.\n",
        "\n",
        "You'll start by running PCA to reduce the dimensionality from 126 down to 2 so that you can easily visualize the data. In general, PCA is very useful for visualization (though sklearn.manifold.tsne is known to produce better visualizations). Recall that PCA is a linear transformation. The 1st projected dimension is the linear combination of all 126 original features that captures as much of the variance in the data as possible. The 2nd projected dimension is the linear combination of all 126 original features that captures as much of the remaining variance as possible. The idea of dense low dimensional representations is crucial to machine learning!\n",
        "\n",
        "Once you've projected the data to 2 dimensions, you'll experiment with clustering using k-means and density estimation with Gaussian mixture models (GMM). Finally, you'll train a classifier by fitting a GMM for the positive class and a GMM for the negative class, and perform inference by comparing the probabilities output by each model.\n",
        "\n",
        "As always, you're welcome to work on the project in groups and discuss ideas on the course wall, but please **prepare your own write-up and write your own code**.\n",
        "\n",
        "## Grading\n",
        "---\n",
        "- Make sure to answer every part in every question.\n",
        " - There are 6 equally weighted questions.\n",
        " - Read carefully what is asked including the notes.\n",
        " - Additional points may be deducted if:\n",
        "   - the code is not clean and well commented, \n",
        "   - and if the functions or answers are too long.\n",
        "\n",
        " ## Requirements:\n",
        "---\n",
        "1. Comment your code.\n",
        "1. All graphs should have titles, label for each axis, and if needed a legend. It should be understandable on its own.\n",
        "1. All code must run on colab.research.google.com\n",
        "1. You should not import any additional libraries.\n",
        "1. Try and minimize the use of the global namespace (meaning keep things in functions)."
      ]
    },
    {
      "cell_type": "code",
      "metadata": {
        "id": "YiA2FUYrTxxl"
      },
      "source": [
        "%matplotlib inline\n",
        "\n",
        "import urllib.request as urllib2 # For python3\n",
        "import numpy as np\n",
        "import pandas as pd\n",
        "import matplotlib.pyplot as plt\n",
        "from sklearn import metrics\n",
        "from sklearn.decomposition import PCA\n",
        "from sklearn.cluster import KMeans\n",
        "from sklearn.mixture import GaussianMixture\n",
        "from matplotlib.colors import LogNorm"
      ],
      "execution_count": null,
      "outputs": []
    },
    {
      "cell_type": "code",
      "metadata": {
        "id": "rNHQPzslTxxo"
      },
      "source": [
        "MUSHROOM_DATA = 'https://raw.githubusercontent.com/UCB-MIDS/207-Applied-Machine-Learning/master/Data/mushroom.data'\n",
        "MUSHROOM_MAP = 'https://raw.githubusercontent.com/UCB-MIDS/207-Applied-Machine-Learning/master/Data/mushroom.map'"
      ],
      "execution_count": null,
      "outputs": []
    },
    {
      "cell_type": "markdown",
      "metadata": {
        "id": "HSKrlpfkTxxp"
      },
      "source": [
        "Load feature names."
      ]
    },
    {
      "cell_type": "code",
      "metadata": {
        "id": "43pbKrDATxxr"
      },
      "source": [
        "feature_names = []\n",
        "\n",
        "for line in urllib2.urlopen(MUSHROOM_MAP):\n",
        "    [index, name, junk] = line.decode('utf-8').split()\n",
        "    feature_names.append(name)\n",
        "\n",
        "print('Loaded feature names: ', len(feature_names))\n",
        "print(feature_names)"
      ],
      "execution_count": null,
      "outputs": []
    },
    {
      "cell_type": "markdown",
      "metadata": {
        "id": "qYgsKjyeTxxt"
      },
      "source": [
        "Load data. The dataset is sparse, but there aren't too many features, so we'll use a dense representation, which is supported by all sklearn objects."
      ]
    },
    {
      "cell_type": "code",
      "metadata": {
        "id": "nEDKnm1sTxxt"
      },
      "source": [
        "X, Y = [], []\n",
        "\n",
        "for line in urllib2.urlopen(MUSHROOM_DATA):\n",
        "    items = line.decode('utf-8').split()\n",
        "    Y.append(int(items.pop(0)))\n",
        "    x = np.zeros(len(feature_names))\n",
        "    for item in items:\n",
        "        feature = int(str(item).split(':')[0])\n",
        "        x[feature] = 1\n",
        "    X.append(x)\n",
        "\n",
        "# Convert these lists to numpy arrays.\n",
        "X = np.array(X)\n",
        "Y = np.array(Y)\n",
        "\n",
        "# Split into train and test data.\n",
        "train_data, train_labels = X[:7000], Y[:7000]\n",
        "test_data, test_labels = X[7000:], Y[7000:]\n",
        "\n",
        "# Check that the shapes look right.\n",
        "print(train_data.shape, test_data.shape)"
      ],
      "execution_count": null,
      "outputs": []
    },
    {
      "cell_type": "markdown",
      "metadata": {
        "id": "5vXR9mODTxxu"
      },
      "source": [
        "### Question 1:PCA and fraction of total variance\n",
        "---\n",
        "\n",
        "1. Do a principal components analysis on the data.\n",
        "1. Print what fraction of the total variance in the training data is explained by the first k principal components, for k in [1, 2, 3, 4, 5, 10, 20, 30, 40, 50].\n",
        "1. Show a lineplot of fraction of total variance vs. number of principal components, for all possible numbers of principal components.\n",
        "1. You only need to call PCA.fit once.\n",
        "\n",
        "Notes:\n",
        "* The pandas DataFrame [cumsum](https://pandas.pydata.org/pandas-docs/stable/reference/api/pandas.DataFrame.cumsum.html) function may be helpful.\n",
        "* You can use `PCA` to produce a PCA analysis."
      ]
    },
    {
      "cell_type": "code",
      "metadata": {
        "id": "EYpzUrfxcqVR"
      },
      "source": [
        "def P1():\n",
        "    ## STUDENT START ###\n",
        "    ## STUDENT END ###\n",
        "\n",
        "P1()"
      ],
      "execution_count": null,
      "outputs": []
    },
    {
      "cell_type": "markdown",
      "metadata": {
        "id": "U1daqkzNTxxx"
      },
      "source": [
        "### Question 2: PCA for visualization\n",
        "\n",
        "PCA can be very useful for visualizing data. \n",
        "1. Project the training data down to 2 dimensions and show as a square scatterplot.\n",
        "  - Show poisonous examples (labeled 1) in red and non-poisonous examples in green (labeled 0)\n",
        "  - Here's a reference for plotting: http://matplotlib.org/users/pyplot_tutorial.html\n",
        "\n",
        "Notes:\n",
        "* You can use `PCA` to produce a PCA analysis.\n",
        "* Be sure to add a title, axis labels and a legend to your graph."
      ]
    },
    {
      "cell_type": "code",
      "metadata": {
        "id": "jXyB2s2oTxxy"
      },
      "source": [
        "def Q2():   \n",
        "  ### STUDENT START ###\n",
        "  ### STUDENT END ###\n",
        "\n",
        "Q2()"
      ],
      "execution_count": null,
      "outputs": []
    },
    {
      "cell_type": "markdown",
      "metadata": {
        "id": "QGHMr8wiTxxz"
      },
      "source": [
        "### Question 3: Visualizing GMMs\n",
        "---\n",
        "\n",
        "1. Fit a k-means cluster model with 6 clusters over the 2d projected data. \n",
        "  - As in part 2, show as a square scatterplot with the positive (poisonous) examples in red and the negative (non-poisonous) examples in green.  \n",
        "  - For each cluster, mark the centroid and plot a circle that goes through the cluster's example that is most distant from the centroid.\n",
        "\n",
        "Notes:\n",
        "* You can use `KMeans` to produce a k-means cluster analysis.\n",
        "* You can use `linalg.norm` to determine distance (dissimilarity) between observations."
      ]
    },
    {
      "cell_type": "code",
      "metadata": {
        "id": "cSNIt_JcTxxz"
      },
      "source": [
        "def Q3():   \n",
        "  ### STUDENT START ###\n",
        "  ### STUDENT END ###\n",
        "\n",
        "Q3()"
      ],
      "execution_count": null,
      "outputs": []
    },
    {
      "cell_type": "markdown",
      "metadata": {
        "id": "a_O5V29yTxx0"
      },
      "source": [
        "### Question 4: Understanding GMMs with Density Plots\n",
        "---\n",
        "\n",
        "1. Fit Gaussian mixture models for the positive (poisonous) examples in your 2d projected data. \n",
        "  - Vary the number of mixture components from 1 to 4 and the covariance matrix type 'spherical', 'diag', 'tied', 'full' (that's 16 models).  \n",
        "  - Show a 4x4 grid of square-shaped plots of the estimated density contours. \n",
        "    - Each row showing a different number of mixture components. \n",
        "    - Each column showing a different convariance matrix type.  \n",
        "1. Be sure to add a title for each plot in the grid to indicate what parameters were used.\n",
        "1. How are the covariance types 'tied' and 'full' different? How do you see it in the plots?\n",
        "\n",
        "Notes:\n",
        "* You can use `GaussianMixture(n_components=..., covariance_type=..., random_state=12345)` to produce a Gaussian mixture model.\n",
        "* You can use `contour` in combination with other methods to plot contours, like in this example: http://scikit-learn.org/stable/auto_examples/mixture/plot_gmm_pdf.html#example-mixture-plot-gmm-pdf-py\n",
        "* You can use `contour` without the `norm` and `levels` parameters. "
      ]
    },
    {
      "cell_type": "code",
      "metadata": {
        "id": "bAnaYw4ZTxx0"
      },
      "source": [
        "def Q4():\n",
        "    ### STUDENT START ###\n",
        "    ### STUDENT END ###\n",
        "\n",
        "Q4()"
      ],
      "execution_count": null,
      "outputs": []
    },
    {
      "cell_type": "markdown",
      "metadata": {
        "id": "8PORrb_gmxr8"
      },
      "source": [
        "Answer:"
      ]
    },
    {
      "cell_type": "markdown",
      "metadata": {
        "id": "PiaTfl2_Txx1"
      },
      "source": [
        "### Question 5: Using Unsupervised models for classification...?\n",
        "---\n",
        "\n",
        "1. Fit two Gaussian mixture models:\n",
        "  - On your 2d projected training data. \n",
        "    - Form a subset of all the poisonous examples and fit one GMM (gmm_poison).\n",
        "    - Form a subset of all the non-poisonous examples and fit another GMM (gmm_nonpoison).\n",
        "  - Use 4 mixture components and full convariance for each model.  \n",
        "1. Use the above trained GMMs to classify examples in your test set:\n",
        "   - For each example in the test set\n",
        "     - Measure how likely it is to have been \"generated\" by gmm_poison and gmm_nonpoison (using score_samples).\n",
        "     - Predict the more likely label.\n",
        "  - You can use score_samples.\n",
        "  - You can do this without a for loop which will be more efficient.\n",
        "1. What is the accuracy of the predictions on the test data? (we expect it to be about 0.95)\n",
        "\n",
        "Notes:\n",
        "* You can use `GaussianMixture(n_components=..., covariance_type=..., random_state=12345)` to produce a Gaussian mixture model.\n",
        "* You can use `GaussianMixture`'s `score_samples` method to find the probabilities."
      ]
    },
    {
      "cell_type": "code",
      "metadata": {
        "id": "F-QanSTeTxx_"
      },
      "source": [
        "def Q5():  \n",
        "  ### STUDENT START ###\n",
        "  ### STUDENT END ###\n",
        "\n",
        "Q5()"
      ],
      "execution_count": null,
      "outputs": []
    },
    {
      "cell_type": "markdown",
      "metadata": {
        "id": "tf0v_azNTxyA"
      },
      "source": [
        "### Question 6: Understanding the GMM parameters\n",
        "---\n",
        "\n",
        "1. Run a series of experiments to find the Gaussian mixture model that results in the best accuracy with no more than 50 parameters.  Do this by varying the number of PCA components, the number of GMM components, and the covariance type.\n",
        "1. Print the best configuration and accuracy.\n",
        "1. Plot a scatter plot of accuracy vs #params.\n",
        "1. Bonus: Provide a better visualization by showing all four: accuracy, number of parameters, the covariance type and the number of PCA dimensions.\n",
        "\n",
        "\n",
        "\n",
        "Notes:\n",
        "* You can use `GaussianMixture(n_components=..., covariance_type=..., random_state=12345)` to produce a Gaussian mixture model.\n",
        "* [This spreadsheet](https://docs.google.com/spreadsheets/d/1LTEOU7q_Tgs4bX_3o2ePjDQrTRToZoc1J5XLlaRbmI0/edit?usp=sharing) should help (accessible from your google @berkeley.edu account)\n",
        "\n",
        "* Spherical - Each GMM component has a mean per dimension, and one variance. \n",
        "* Diag - Each GMM component has a mean per dimension and a variance for each dimension.\n",
        "* full - Each GMM component has a mean per dimension and a \"full\" covariance matrix. Only the covariance matrix is symmetric, so its $[i,j]$ entry would equal to its $[j,i]$ entry.\n",
        "* tied - Finally, tied has all components share a single covariance matrix. So each GMM component has a mean per dimension but they all share the same 'full' covariance matrix."
      ]
    },
    {
      "cell_type": "code",
      "metadata": {
        "scrolled": false,
        "id": "66XSs_95TxyA"
      },
      "source": [
        "from matplotlib.lines import Line2D\n",
        "\n",
        "def Q6():\n",
        "  ### STUDENT START ###\n",
        "  ### STUDENT END ###\n",
        "\n",
        "Q6()"
      ],
      "execution_count": null,
      "outputs": []
    },
    {
      "cell_type": "code",
      "metadata": {
        "id": "b7Nkr4OH9SVD"
      },
      "source": [
        ""
      ],
      "execution_count": null,
      "outputs": []
    }
  ]
}